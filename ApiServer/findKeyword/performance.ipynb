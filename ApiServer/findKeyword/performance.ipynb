{
 "cells": [
  {
   "cell_type": "code",
   "execution_count": 3,
   "metadata": {},
   "outputs": [],
   "source": [
    " # -*- coding: utf-8 -*-\n",
    "from keywordExtractor import keywordExtractor\n",
    "\n",
    "common_words = ['많이', '영상', '너무', '이번', '내가', 'ㅋㅋ', '남자', '조합', '이거', '있는', '아닌', '진짜', '아니', 'ㅠㅠ', '계속', '좋아', '이렇게', '좋겠다', '제발', '사람', '점점', '보고', '근데', '그냥', '다음', '여기', '뭔가', '보는', 'ㄹㅇ', '하는', '언제', '한번', '같아', '이런', '무슨', '지금', '같음', '느낌', '보면', '우리', '이제', 'ㅎㅎ', '알았', '보니', '좋다', '항상', '어떻게', '다들', '생각', '가는', '그런', '하나', '어디', '좋은', '좋네', '보기', '올라', '응원', '올려','진짜']\n",
    "\n",
    "keywordExtractor = keywordExtractor(common_words)"
   ]
  },
  {
   "cell_type": "code",
   "execution_count": 4,
   "metadata": {},
   "outputs": [
    {
     "name": "stdout",
     "output_type": "stream",
     "text": [
      "konlpy best 5 :쿠기, 미노, 웃음소리, 웃음, 요리조리\n",
      "soynlp best 5 :쿠기, 미노이, 웃음소리, 릴러말즈, 요리조리\n",
      "krwordsrank best 5 :쿠기, 미노이, ㅋㅋㅋ, 웃음, 요리조리\n"
     ]
    }
   ],
   "source": [
    "keywordExtractor.method_comparison('./data/iPIiI5oxKNM.xlsx')"
   ]
  },
  {
   "cell_type": "code",
   "execution_count": 5,
   "metadata": {},
   "outputs": [
    {
     "name": "stdout",
     "output_type": "stream",
     "text": [
      "konlpy best 5 :루루, 새해, 교수, 혁신, 전환\n",
      "soynlp best 5 :새해, 빌드업, 구루루님, 감사, 마스터\n",
      "krwordsrank best 5 :교수님, 혁신가, 감사합니다, 덕분에, 새해\n"
     ]
    }
   ],
   "source": [
    "keywordExtractor.method_comparison('./data/5aPOr-8qRFw.xlsx')"
   ]
  },
  {
   "cell_type": "code",
   "execution_count": 6,
   "metadata": {},
   "outputs": [
    {
     "name": "stdout",
     "output_type": "stream",
     "text": [
      "konlpy best 5 :잔디, 경기, 선수, 축구, 월드컵\n",
      "soynlp best 5 :잔디, 월드컵, 벤투, 레바논, 조규성\n",
      "krwordsrank best 5 :잔디, 경기, 월드컵, 벤투, 레바논\n"
     ]
    }
   ],
   "source": [
    "keywordExtractor.method_comparison('./data/TYT15A1ZzQQ.xlsx')"
   ]
  },
  {
   "cell_type": "code",
   "execution_count": 7,
   "metadata": {},
   "outputs": [
    {
     "name": "stdout",
     "output_type": "stream",
     "text": [
      "konlpy best 5 :해킹, 만기, 마빡, 감스트, 머리\n",
      "soynlp best 5 :마빡이, 감스트, 만기, ㅋㅋㅋ, 스트형\n",
      "krwordsrank best 5 :마빡이, 만기, 감스트, 스트형, ㅈ되네만기감\n"
     ]
    }
   ],
   "source": [
    "keywordExtractor.method_comparison('./data/uyeaOv3lZc4.xlsx')"
   ]
  },
  {
   "cell_type": "code",
   "execution_count": 8,
   "metadata": {},
   "outputs": [
    {
     "name": "stdout",
     "output_type": "stream",
     "text": [
      "konlpy best 5 :침착, 개방, 방송, 퀴즈, 깻잎\n",
      "soynlp best 5 :개방장, 침착맨, 유퀴즈, 방송, 감사\n",
      "krwordsrank best 5 :침착맨, 개방장, 유퀴즈, 방송, 깻잎\n"
     ]
    }
   ],
   "source": [
    "keywordExtractor.method_comparison('./data/3mRPNztWfBg.xlsx')"
   ]
  },
  {
   "cell_type": "code",
   "execution_count": 9,
   "metadata": {},
   "outputs": [
    {
     "name": "stdout",
     "output_type": "stream",
     "text": [
      "konlpy best 5 :페이커, 무빙, 상혁, 녀석, 구마\n",
      "soynlp best 5 :페이커, 아랫무빙, 시간, 상혁, 오늘\n",
      "krwordsrank best 5 :페이커, 건방진, 상혁\n"
     ]
    }
   ],
   "source": [
    "keywordExtractor.method_comparison('./data/FTdVTNhhVX4.xlsx')"
   ]
  },
  {
   "cell_type": "code",
   "execution_count": 10,
   "metadata": {},
   "outputs": [
    {
     "name": "stdout",
     "output_type": "stream",
     "text": [
      "konlpy best 5 :복싱, 박종팔, 계란, 선수, 컨텐츠\n",
      "soynlp best 5 :박종팔, 복싱, 예븐님, 김계란, 선수\n",
      "krwordsrank best 5 :박종팔, 복싱, 예븐님, 김계란, 계란\n"
     ]
    }
   ],
   "source": [
    "keywordExtractor.method_comparison('./data/wG10ni2Sn5Y.xlsx')"
   ]
  },
  {
   "cell_type": "markdown",
   "metadata": {},
   "source": [
    "# konlpy에서 해킹이 best 5 1등에 해킹이 랭크된 현상\n",
    "\n",
    "댓글: 해킹해킹해킹해킹해킹해킹해킹해킹해킹해킹해킹해킹해킹해킹해킹해킹해킹해킹해킹해킹해킹해킹해킹해킹해킹해킹해킹해킹해킹해킹해킹해킹해킹해킹해킹해킹해킹해킹해킹해킹해킹해킹해킹해킹해킹해킹해킹해킹해킹해킹해킹해킹해킹해킹해킹해킹해킹해킹해킹해킹해킹해킹해킹해킹해킹해킹해킹해킹해킹해킹해킹해킹해킹해킹해킹해킹해킹해킹해킹해킹해킹해킹해킹해킹해킹해킹해킹해킹해킹해킹해킹해킹해킹해킹해킹해킹해킹해킹해킹해킹해킹해킹해킹해킹해킹해킹해킹해킹해킹해킹해킹해킹해킹해킹해킹해킹해킹해킹해킹해킹해킹해킹해킹해킹해킹해킹해킹해킹해킹해킹해킹해킹해킹해킹해킹해킹해킹해킹해킹해킹해킹해킹해킹해킹해킹해킹해킹해킹해킹해킹해킹해킹해킹해킹해킹해킹해킹해킹해킹해킹해킹해킹해킹해킹해킹해킹해킹해킹해킹해킹해킹해킹해킹해킹해킹해킹해킹해킹해킹해킹해킹해킹해킹해킹해킹해킹해킹해킹해킹해킹해킹해킹해킹해킹해킹해킹해킹해킹해킹해킹해킹해킹해킹해킹해킹해킹해킹해킹해킹해킹해킹해킹해킹해킹해킹해킹해킹해킹해킹해킹해킹해킹해킹해킹해킹해킹해킹해킹해킹해킹해킹해킹해킹해킹해킹해킹해킹해킹해킹해킹해킹해킹해킹해킹해킹해킹해킹해킹해킹해킹해킹해킹해킹해킹해킹해킹해킹해킹해킹해킹해킹해킹해킹해킹해킹해킹해킹해킹해킹해킹해킹해킹해킹해킹해킹해킹해킹해킹해킹해킹해킹해킹해킹해킹해킹해킹해킹해킹해킹해킹해킹해킹해킹해킹해킹해킹해킹해킹해킹해킹해킹해킹해킹해킹해킹해킹해킹해킹해킹해킹해킹해킹해킹해킹해킹해킹해킹해킹해킹해킹해킹해킹해킹해킹해킹해킹해킹해킹해킹해킹해킹해킹해킹해킹해킹해킹해킹해킹해킹해킹해킹해킹해킹해킹해킹해킹해킹해킹해킹해킹해킹해킹해킹해킹해킹해킹해킹해킹해킹해킹해킹해킹해킹해킹해킹해킹해킹해킹해킹해킹해킹해킹해킹해킹해킹해킹해킹해킹해킹해킹해킹해킹해킹해킹해킹해킹해킹해킹해킹해킹해킹해킹해킹해킹해킹해킹해킹해킹해킹해킹해킹해킹해킹해킹해킹해킹해킹해킹해킹해킹해킹해킹해킹해킹해킹해킹해킹해킹해킹해킹해킹해킹해킹해킹해킹해킹해킹해킹해킹해킹해킹해킹해킹해킹해킹해킹해킹해킹해킹해킹해킹해킹해킹해킹해킹해킹해킹해킹해킹해킹해킹해킹해킹해킹해킹해킹해킹해킹해킹해킹해킹해킹해킹해킹해킹해킹해킹해킹해킹해킹해킹해킹해킹해킹해킹해킹해킹해킹해킹해킹해킹해킹해킹해킹해킹해킹해킹해킹해킹해킹해킹해킹해킹해킹해킹해킹해킹해킹해킹해킹해킹해킹해킹해킹해킹해킹해킹해킹해킹해킹해킹해킹해킹해킹해킹해킹해킹해킹해킹해킹해킹해킹해킹해킹해킹해킹해킹해킹해킹해킹해킹해킹해킹해킹해킹해킹해킹해킹해킹해킹해킹해킹해킹해킹해킹해킹해킹해킹해킹해킹해킹해킹해킹해킹해킹해킹해킹해킹해킹해킹해킹해킹해킹해킹해킹해킹해킹해킹해킹해킹해킹해킹해킹해킹해킹해킹해킹해킹해킹해킹해킹해킹해킹해킹해킹해킹해킹해킹해킹해킹해킹해킹해킹해킹해킹해킹해킹해킹해킹해킹해킹해킹해킹해킹해킹해킹해킹해킹해킹해킹해킹해킹해킹해킹해킹해킹해킹해킹해킹해킹해킹해킹해킹해킹해킹해킹해킹해킹해킹해킹해킹해킹해킹해킹해킹해킹해킹해킹해킹해킹해킹해킹해킹해킹해킹해킹해킹해킹해킹해킹해킹해킹해킹해킹해킹해킹해킹해킹해킹해킹해킹해킹해킹해킹해킹해킹해킹해킹해킹해킹해킹해킹해킹해킹해킹해킹해킹해킹해킹해킹해킹해킹해킹해킹해킹해킹해킹해킹해킹해킹해킹해킹해킹해킹해킹해킹해킹해킹해킹해킹해킹해킹해킹해킹해킹해킹해킹해킹해킹해킹해킹해킹해킹해킹해킹해킹해킹해킹해킹해킹해킹해킹해킹해킹해킹해킹해킹해킹해킹해킹해킹해킹해킹해킹해킹해킹해킹해킹해킹해킹해킹해킹해킹해킹해킹해킹해킹해킹해킹해킹해킹해킹해킹해킹해킹해킹해킹해킹해킹해킹해킹해킹해킹해킹해킹해킹해킹해킹해킹해킹해킹해킹해킹해킹해킹해킹해킹해킹해킹해킹해킹해킹해킹해킹해킹해킹해킹해킹해킹해킹해킹해킹해킹해킹해킹해킹해킹해킹해킹해킹해킹해킹해킹해킹해킹해킹해킹해킹해킹해킹해킹해킹해킹해킹해킹해킹해킹해킹해킹해킹해킹해킹해킹해킹해킹해킹해킹해킹해킹해킹해킹해킹해킹해킹해킹해킹해킹해킹해킹\n",
    "\n",
    "=> 이러한 댓글이 총 3개 존재\n",
    "=> 매크로성 댓글"
   ]
  },
  {
   "cell_type": "markdown",
   "metadata": {},
   "source": [
    "# 키워드 정확도\n",
    "개인적으로 soynlp를 사용하였을 때 정확도가 가장 높은 것으로 체감됨"
   ]
  },
  {
   "cell_type": "code",
   "execution_count": 11,
   "metadata": {},
   "outputs": [
    {
     "data": {
      "text/plain": [
       "<keywordExtracter.keywordExtracter at 0x202f4189af0>"
      ]
     },
     "execution_count": 11,
     "metadata": {},
     "output_type": "execute_result"
    }
   ],
   "source": [
    "import time\n",
    " # -*- coding: utf-8 -*-\n",
    "from keywordExtractor import keywordExtractor\n",
    "\n",
    "common_words = ['많이', '영상', '너무', '이번', '내가', 'ㅋㅋ', '남자', '조합', '이거', '있는', '아닌', '진짜', '아니', 'ㅠㅠ', '계속', '좋아', '이렇게', '좋겠다', '제발', '사람', '점점', '보고', '근데', '그냥', '다음', '여기', '뭔가', '보는', 'ㄹㅇ', '하는', '언제', '한번', '같아', '이런', '무슨', '지금', '같음', '느낌', '보면', '우리', '이제', 'ㅎㅎ', '알았', '보니', '좋다', '항상', '어떻게', '다들', '생각', '가는', '그런', '하나', '어디', '좋은', '좋네', '보기', '올라', '응원', '올려','진짜']\n",
    "\n",
    "keywordExtractor = keywordExtractor(common_words)\n",
    "keywordExtractor.get_comments_from_excel('./data/iPIiI5oxKNM.xlsx')"
   ]
  },
  {
   "cell_type": "code",
   "execution_count": 12,
   "metadata": {},
   "outputs": [
    {
     "name": "stdout",
     "output_type": "stream",
     "text": [
      "time : 3.4186785221099854\n"
     ]
    }
   ],
   "source": [
    "\n",
    "start = time.time()  \n",
    "\n",
    "keywords = keywordExtractor.keywords_from_konlpy()\n",
    "keywordExtractor.get_best5_keywords(keywords, one=True)\n",
    " \n",
    "print(\"time :\", time.time() - start)  "
   ]
  },
  {
   "cell_type": "code",
   "execution_count": 13,
   "metadata": {},
   "outputs": [
    {
     "name": "stdout",
     "output_type": "stream",
     "text": [
      "time : 0.5210626125335693\n"
     ]
    }
   ],
   "source": [
    "start = time.time()  \n",
    "\n",
    "keywords = keywordExtractor.keywords_from_soynlp()\n",
    "keywordExtractor.get_best5_keywords(keywords, one=True)\n",
    " \n",
    "print(\"time :\", time.time() - start)  "
   ]
  },
  {
   "cell_type": "code",
   "execution_count": 14,
   "metadata": {},
   "outputs": [
    {
     "name": "stdout",
     "output_type": "stream",
     "text": [
      "time : 0.5259888172149658\n"
     ]
    }
   ],
   "source": [
    "start = time.time()  \n",
    "\n",
    "keywords = keywordExtractor.keywords_from_krwordsrank()\n",
    "keywordExtractor.get_best5_keywords(keywords, one=True)\n",
    " \n",
    "print(\"time :\", time.time() - start)  "
   ]
  },
  {
   "cell_type": "markdown",
   "metadata": {},
   "source": [
    "# 성능\n",
    "konlpy : 4.418605327606201초\n",
    "soynlp : 0.6650009155273438초\n",
    "krwordsrank : 0.38899660110473633초"
   ]
  },
  {
   "cell_type": "code",
   "execution_count": null,
   "metadata": {},
   "outputs": [],
   "source": [
    " # -*- coding: utf-8 -*-\n",
    "from keywordExtractor import keywordExtractor\n",
    "\n",
    "common_words = ['많이', '영상', '너무', '이번', '내가', 'ㅋㅋ', '남자', '조합', '이거', '있는', '아닌', '진짜', '아니', 'ㅠㅠ', '계속', '좋아', '이렇게', '좋겠다', '제발', '사람', '점점', '보고', '근데', '그냥', '다음', '여기', '뭔가', '보는', 'ㄹㅇ', '하는', '언제', '한번', '같아', '이런', '무슨', '지금', '같음', '느낌', '보면', '우리', '이제', 'ㅎㅎ', '알았', '보니', '좋다', '항상', '어떻게', '다들', '생각', '가는', '그런', '하나', '어디', '좋은', '좋네', '보기', '올라', '응원', '올려','진짜']\n",
    "\n",
    "keywordExtractor = keywordExtractor(common_words)\n",
    "keywordExtractor.get_comments_from_excel('./data/0ftF6DYPhUk.xlsx')"
   ]
  },
  {
   "cell_type": "code",
   "execution_count": 4,
   "metadata": {},
   "outputs": [],
   "source": [
    "best_5_keywords, comments = keywordExtractor.get_comments_related_to_best5keywords(keywordExtractor.keywords_from_soynlp)"
   ]
  },
  {
   "cell_type": "code",
   "execution_count": 5,
   "metadata": {},
   "outputs": [
    {
     "name": "stdout",
     "output_type": "stream",
     "text": [
      "1번째 keyword:감사\n",
      "<관련 댓글들>\n",
      "너무 자세한 설명 항상 잘보고잇어용 ㅎ 감사합니다:-)\n",
      "진짜 대박... 완전 실무핵심 감사해요♥️♥️♥️\n",
      "좋은강의 감사합니다 ! 혹시 작업에 사용되는 flat 아이콘은 iconify 에서 다운이 가능한데, 손으로 글씨쓰는 것이나 메가폰같은  실제에가까운 아이콘은 어디서 받아서 적용하시는건가요?\n",
      "\n",
      "\n",
      "\n"
     ]
    }
   ],
   "source": [
    "for i in range(len(best_5_keywords)):\n",
    "  print(str(i+1)+'번째 keyword:'+best_5_keywords[i])\n",
    "  print('<관련 댓글들>')\n",
    "  for j in comments[i]:\n",
    "    print(j)\n",
    "  print('\\n\\n')"
   ]
  },
  {
   "cell_type": "code",
   "execution_count": 19,
   "metadata": {},
   "outputs": [
    {
     "data": {
      "text/plain": [
       "['근데 미노이 소속사가 에잇볼타운?인데 왜 aomg계정에 영상이 올라오나용? 제가 힙합 잘 몰라서요', '뭐야뭐야 힙합계 구교환']"
      ]
     },
     "execution_count": 19,
     "metadata": {},
     "output_type": "execute_result"
    }
   ],
   "source": [
    "comments = keywordExtractor.get_comments_related_to_keyword('힙합')\n",
    "comments"
   ]
  },
  {
   "cell_type": "code",
   "execution_count": 26,
   "metadata": {},
   "outputs": [
    {
     "data": {
      "text/plain": [
       "['스트형이 진짜 항상 잘 챙겨주십니다!! 진짜 맛있게 먹었습니다!! 스트형 아이 러브 유~~❤❤❤❤❤',\n",
       " '만기형 혀 기대치 드립쳐놓고 담달에 라면도 맛있게 먹을거 생각하니까 개귀엽네 ㅋㅋ',\n",
       " '만기님을 위해서 댓글 먹는다해서🍗🍖🥩🥓🍔🍕🍫🎂🦀🦞🦐\\U0001f9cb🍷🍯🍛🍱🥞🌮🥪🍟준비했습니다 맛있게 드세요',\n",
       " '마빡이 맛있게 먹는거 보니깐 보기 좋다 ㅠㅠ',\n",
       " '돼지님 욕 맛있게 쳐드십쇼  :)',\n",
       " '다들 맛있게 재밌게 먹는 모습 보기 좋다',\n",
       " '만기 근데 진짜 많이 알고 맛있게 먹네',\n",
       " '감스트도 기분좋겠다 동생들이 저렇게 맛있게 먹어줘서',\n",
       " '형들 겁나 맛있게 먹네..난 언제 저거 먹냐 ㅋㅎㅋㅋㅎ',\n",
       " '형은 역시 취두부 먹을 때가 제일 맛있게 먹는 거 같아',\n",
       " '스트가 이때먹어서살이 찐거구나 볼살이 올랐던데  디게맛있게 잘먹네 한번가서 먹어보고싶다',\n",
       " '맛있게도 안먹고 재미도 너무 없다',\n",
       " '아니 근데 마빡이 음식을 개맛있게 먹는거 같음 먹방 방송도 괜찮을듯']"
      ]
     },
     "execution_count": 26,
     "metadata": {},
     "output_type": "execute_result"
    }
   ],
   "source": [
    "keywordExtractor.get_comments_from_excel('./data/uyeaOv3lZc4.xlsx')\n",
    "comments = keywordExtractor.get_comments_related_to_keyword('맛있게')\n",
    "comments"
   ]
  }
 ],
 "metadata": {
  "interpreter": {
   "hash": "512dfda59c5b7b73bb23ab92e50be37e814b46159b917fe8982bcd2f53fab484"
  },
  "kernelspec": {
   "display_name": "Python 3.8.12 64-bit ('study': conda)",
   "language": "python",
   "name": "python3"
  },
  "language_info": {
   "codemirror_mode": {
    "name": "ipython",
    "version": 3
   },
   "file_extension": ".py",
   "mimetype": "text/x-python",
   "name": "python",
   "nbconvert_exporter": "python",
   "pygments_lexer": "ipython3",
   "version": "3.8.12"
  },
  "orig_nbformat": 4
 },
 "nbformat": 4,
 "nbformat_minor": 2
}
