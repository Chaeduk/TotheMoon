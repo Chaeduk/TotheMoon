{
 "cells": [
  {
   "cell_type": "code",
   "execution_count": 12,
   "metadata": {},
   "outputs": [],
   "source": [
    " # -*- coding: utf-8 -*-\n",
    "from keywordExtracter import keywordExtracter\n",
    "\n",
    "common_words = ['많이', '영상', '너무', '이번', '내가', 'ㅋㅋ', '남자', '조합', '이거', '있는', '아닌', '진짜', '아니', 'ㅠㅠ', '계속', '좋아', '이렇게', '좋겠다', '제발', '사람', '점점', '보고', '근데', '그냥', '다음', '여기', '뭔가', '보는', 'ㄹㅇ', '하는', '언제', '한번', '같아', '이런', '무슨', '지금', '같음', '느낌', '보면', '우리', '이제', 'ㅎㅎ', '알았', '보니', '좋다', '항상', '어떻게', '다들', '생각', '가는', '그런', '하나', '어디', '좋은', '좋네', '보기', '올라', '응원', '올려','진짜']\n",
    "\n",
    "keywordExtracter = keywordExtracter(common_words)"
   ]
  },
  {
   "cell_type": "code",
   "execution_count": 9,
   "metadata": {},
   "outputs": [
    {
     "name": "stdout",
     "output_type": "stream",
     "text": [
      "konlpy best 5 :쿠기, 미노, 웃음소리, 웃음, 요리조리\n",
      "soynlp best 5 :쿠기, 미노이, 웃음소리, 릴러말즈, 요리조리\n",
      "krwordsrank best 5 :쿠기, 미노이, ㅋㅋㅋ, 웃음, 요리조리\n"
     ]
    }
   ],
   "source": [
    "keywordExtracter.method_comparison('./data/iPIiI5oxKNM.xlsx')"
   ]
  },
  {
   "cell_type": "code",
   "execution_count": 8,
   "metadata": {},
   "outputs": [
    {
     "name": "stdout",
     "output_type": "stream",
     "text": [
      "konlpy best 5 :루루, 새해, 교수, 혁신, 전환\n",
      "soynlp best 5 :새해, 빌드업, 구루루님, 감사, 탐켄치\n",
      "krwordsrank best 5 :교수님, 혁신가, 감사합니다, 덕분에, 새해\n"
     ]
    }
   ],
   "source": [
    "keywordExtracter.method_comparison('./data/5aPOr-8qRFw.xlsx')"
   ]
  },
  {
   "cell_type": "code",
   "execution_count": 4,
   "metadata": {},
   "outputs": [
    {
     "name": "stdout",
     "output_type": "stream",
     "text": [
      "konlpy best 5 :잔디, 경기, 선수, 축구, 월드컵\n",
      "soynlp best 5 :잔디, 월드컵, 벤투, 레바논, 조규성\n",
      "krwordsrank best 5 :잔디, 경기, 월드컵, 벤투, 레바논\n"
     ]
    }
   ],
   "source": [
    "keywordExtracter.method_comparison('./data/TYT15A1ZzQQ.xlsx')"
   ]
  },
  {
   "cell_type": "code",
   "execution_count": 5,
   "metadata": {},
   "outputs": [
    {
     "name": "stdout",
     "output_type": "stream",
     "text": [
      "konlpy best 5 :해킹, 만기, 마빡, 감스트, 머리\n",
      "soynlp best 5 :마빡이, 감스트, 만기, ㅋㅋㅋ, 스트형\n",
      "krwordsrank best 5 :마빡이, 만기, 감스트, 스트형, ㅈ되네만기감\n"
     ]
    }
   ],
   "source": [
    "keywordExtracter.method_comparison('./data/uyeaOv3lZc4.xlsx')\n",
    "# 해킹 관련"
   ]
  },
  {
   "cell_type": "markdown",
   "metadata": {},
   "source": [
    "# konlpy에서 해킹이 best 5 1등에 해킹이 랭크된 현상\n",
    "\n",
    "댓글: 해킹해킹해킹해킹해킹해킹해킹해킹해킹해킹해킹해킹해킹해킹해킹해킹해킹해킹해킹해킹해킹해킹해킹해킹해킹해킹해킹해킹해킹해킹해킹해킹해킹해킹해킹해킹해킹해킹해킹해킹해킹해킹해킹해킹해킹해킹해킹해킹해킹해킹해킹해킹해킹해킹해킹해킹해킹해킹해킹해킹해킹해킹해킹해킹해킹해킹해킹해킹해킹해킹해킹해킹해킹해킹해킹해킹해킹해킹해킹해킹해킹해킹해킹해킹해킹해킹해킹해킹해킹해킹해킹해킹해킹해킹해킹해킹해킹해킹해킹해킹해킹해킹해킹해킹해킹해킹해킹해킹해킹해킹해킹해킹해킹해킹해킹해킹해킹해킹해킹해킹해킹해킹해킹해킹해킹해킹해킹해킹해킹해킹해킹해킹해킹해킹해킹해킹해킹해킹해킹해킹해킹해킹해킹해킹해킹해킹해킹해킹해킹해킹해킹해킹해킹해킹해킹해킹해킹해킹해킹해킹해킹해킹해킹해킹해킹해킹해킹해킹해킹해킹해킹해킹해킹해킹해킹해킹해킹해킹해킹해킹해킹해킹해킹해킹해킹해킹해킹해킹해킹해킹해킹해킹해킹해킹해킹해킹해킹해킹해킹해킹해킹해킹해킹해킹해킹해킹해킹해킹해킹해킹해킹해킹해킹해킹해킹해킹해킹해킹해킹해킹해킹해킹해킹해킹해킹해킹해킹해킹해킹해킹해킹해킹해킹해킹해킹해킹해킹해킹해킹해킹해킹해킹해킹해킹해킹해킹해킹해킹해킹해킹해킹해킹해킹해킹해킹해킹해킹해킹해킹해킹해킹해킹해킹해킹해킹해킹해킹해킹해킹해킹해킹해킹해킹해킹해킹해킹해킹해킹해킹해킹해킹해킹해킹해킹해킹해킹해킹해킹해킹해킹해킹해킹해킹해킹해킹해킹해킹해킹해킹해킹해킹해킹해킹해킹해킹해킹해킹해킹해킹해킹해킹해킹해킹해킹해킹해킹해킹해킹해킹해킹해킹해킹해킹해킹해킹해킹해킹해킹해킹해킹해킹해킹해킹해킹해킹해킹해킹해킹해킹해킹해킹해킹해킹해킹해킹해킹해킹해킹해킹해킹해킹해킹해킹해킹해킹해킹해킹해킹해킹해킹해킹해킹해킹해킹해킹해킹해킹해킹해킹해킹해킹해킹해킹해킹해킹해킹해킹해킹해킹해킹해킹해킹해킹해킹해킹해킹해킹해킹해킹해킹해킹해킹해킹해킹해킹해킹해킹해킹해킹해킹해킹해킹해킹해킹해킹해킹해킹해킹해킹해킹해킹해킹해킹해킹해킹해킹해킹해킹해킹해킹해킹해킹해킹해킹해킹해킹해킹해킹해킹해킹해킹해킹해킹해킹해킹해킹해킹해킹해킹해킹해킹해킹해킹해킹해킹해킹해킹해킹해킹해킹해킹해킹해킹해킹해킹해킹해킹해킹해킹해킹해킹해킹해킹해킹해킹해킹해킹해킹해킹해킹해킹해킹해킹해킹해킹해킹해킹해킹해킹해킹해킹해킹해킹해킹해킹해킹해킹해킹해킹해킹해킹해킹해킹해킹해킹해킹해킹해킹해킹해킹해킹해킹해킹해킹해킹해킹해킹해킹해킹해킹해킹해킹해킹해킹해킹해킹해킹해킹해킹해킹해킹해킹해킹해킹해킹해킹해킹해킹해킹해킹해킹해킹해킹해킹해킹해킹해킹해킹해킹해킹해킹해킹해킹해킹해킹해킹해킹해킹해킹해킹해킹해킹해킹해킹해킹해킹해킹해킹해킹해킹해킹해킹해킹해킹해킹해킹해킹해킹해킹해킹해킹해킹해킹해킹해킹해킹해킹해킹해킹해킹해킹해킹해킹해킹해킹해킹해킹해킹해킹해킹해킹해킹해킹해킹해킹해킹해킹해킹해킹해킹해킹해킹해킹해킹해킹해킹해킹해킹해킹해킹해킹해킹해킹해킹해킹해킹해킹해킹해킹해킹해킹해킹해킹해킹해킹해킹해킹해킹해킹해킹해킹해킹해킹해킹해킹해킹해킹해킹해킹해킹해킹해킹해킹해킹해킹해킹해킹해킹해킹해킹해킹해킹해킹해킹해킹해킹해킹해킹해킹해킹해킹해킹해킹해킹해킹해킹해킹해킹해킹해킹해킹해킹해킹해킹해킹해킹해킹해킹해킹해킹해킹해킹해킹해킹해킹해킹해킹해킹해킹해킹해킹해킹해킹해킹해킹해킹해킹해킹해킹해킹해킹해킹해킹해킹해킹해킹해킹해킹해킹해킹해킹해킹해킹해킹해킹해킹해킹해킹해킹해킹해킹해킹해킹해킹해킹해킹해킹해킹해킹해킹해킹해킹해킹해킹해킹해킹해킹해킹해킹해킹해킹해킹해킹해킹해킹해킹해킹해킹해킹해킹해킹해킹해킹해킹해킹해킹해킹해킹해킹해킹해킹해킹해킹해킹해킹해킹해킹해킹해킹해킹해킹해킹해킹해킹해킹해킹해킹해킹해킹해킹해킹해킹해킹해킹해킹해킹해킹해킹해킹해킹해킹해킹해킹해킹해킹해킹해킹해킹해킹해킹해킹해킹해킹해킹해킹해킹해킹해킹해킹해킹해킹해킹해킹해킹해킹해킹해킹해킹해킹해킹해킹해킹해킹해킹해킹해킹해킹해킹해킹해킹해킹해킹해킹해킹해킹해킹해킹해킹해킹\n",
    "\n",
    "=> 이러한 댓글이 총 3개 존재\n",
    "=> 매크로성 댓글"
   ]
  },
  {
   "cell_type": "markdown",
   "metadata": {},
   "source": [
    "# 키워드 정확도\n",
    "개인적으로 soynlp를 사용하였을 때 정확도가 가장 높은 것으로 체감됨"
   ]
  },
  {
   "cell_type": "code",
   "execution_count": 17,
   "metadata": {},
   "outputs": [
    {
     "data": {
      "text/plain": [
       "<keywordExtracter.keywordExtracter at 0x2c19e6f5cd0>"
      ]
     },
     "execution_count": 17,
     "metadata": {},
     "output_type": "execute_result"
    }
   ],
   "source": [
    "import time\n",
    " # -*- coding: utf-8 -*-\n",
    "from keywordExtracter import keywordExtracter\n",
    "\n",
    "common_words = ['많이', '영상', '너무', '이번', '내가', 'ㅋㅋ', '남자', '조합', '이거', '있는', '아닌', '진짜', '아니', 'ㅠㅠ', '계속', '좋아', '이렇게', '좋겠다', '제발', '사람', '점점', '보고', '근데', '그냥', '다음', '여기', '뭔가', '보는', 'ㄹㅇ', '하는', '언제', '한번', '같아', '이런', '무슨', '지금', '같음', '느낌', '보면', '우리', '이제', 'ㅎㅎ', '알았', '보니', '좋다', '항상', '어떻게', '다들', '생각', '가는', '그런', '하나', '어디', '좋은', '좋네', '보기', '올라', '응원', '올려','진짜']\n",
    "\n",
    "keywordExtracter = keywordExtracter(common_words)\n",
    "keywordExtracter.get_comments_from_excel('./data/iPIiI5oxKNM.xlsx')"
   ]
  },
  {
   "cell_type": "code",
   "execution_count": 18,
   "metadata": {},
   "outputs": [
    {
     "name": "stdout",
     "output_type": "stream",
     "text": [
      "time : 4.418605327606201\n"
     ]
    }
   ],
   "source": [
    "\n",
    "start = time.time()  \n",
    "\n",
    "keywords = keywordExtracter.keywords_from_konlpy()\n",
    "keywordExtracter.get_best5_keywords(keywords, one=True)\n",
    " \n",
    "print(\"time :\", time.time() - start)  "
   ]
  },
  {
   "cell_type": "code",
   "execution_count": 19,
   "metadata": {},
   "outputs": [
    {
     "name": "stdout",
     "output_type": "stream",
     "text": [
      "time : 0.6650009155273438\n"
     ]
    }
   ],
   "source": [
    "start = time.time()  \n",
    "\n",
    "keywords = keywordExtracter.keywords_from_soynlp()\n",
    "keywordExtracter.get_best5_keywords(keywords, one=True)\n",
    " \n",
    "print(\"time :\", time.time() - start)  "
   ]
  },
  {
   "cell_type": "code",
   "execution_count": 20,
   "metadata": {},
   "outputs": [
    {
     "name": "stdout",
     "output_type": "stream",
     "text": [
      "time : 0.38899660110473633\n"
     ]
    }
   ],
   "source": [
    "start = time.time()  \n",
    "\n",
    "keywords = keywordExtracter.keywords_from_krwordsrank()\n",
    "keywordExtracter.get_best5_keywords(keywords, one=True)\n",
    " \n",
    "print(\"time :\", time.time() - start)  "
   ]
  },
  {
   "cell_type": "markdown",
   "metadata": {},
   "source": [
    "# 성능\n",
    "konlpy : 4.418605327606201초\n",
    "soynlp : 0.6650009155273438초\n",
    "krwordsrank : 0.38899660110473633초"
   ]
  }
 ],
 "metadata": {
  "interpreter": {
   "hash": "512dfda59c5b7b73bb23ab92e50be37e814b46159b917fe8982bcd2f53fab484"
  },
  "kernelspec": {
   "display_name": "Python 3.8.12 64-bit ('study': conda)",
   "language": "python",
   "name": "python3"
  },
  "language_info": {
   "codemirror_mode": {
    "name": "ipython",
    "version": 3
   },
   "file_extension": ".py",
   "mimetype": "text/x-python",
   "name": "python",
   "nbconvert_exporter": "python",
   "pygments_lexer": "ipython3",
   "version": "3.8.12"
  },
  "orig_nbformat": 4
 },
 "nbformat": 4,
 "nbformat_minor": 2
}
