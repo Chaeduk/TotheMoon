{
 "cells": [
  {
   "cell_type": "code",
   "execution_count": 3,
   "metadata": {},
   "outputs": [],
   "source": [
    " # -*- coding: utf-8 -*-\n",
    "from keywordExtracter import keywordExtracter\n",
    "\n",
    "common_words = ['많이', '영상', '너무', '이번', '내가', 'ㅋㅋ', '남자', '조합', '이거', '있는', '아닌', '진짜', '아니', 'ㅠㅠ', '계속', '좋아', '이렇게', '좋겠다', '제발', '사람', '점점', '보고', '근데', '그냥', '다음', '여기', '뭔가', '보는', 'ㄹㅇ', '하는', '언제', '한번', '같아', '이런', '무슨', '지금', '같음', '느낌', '보면', '우리', '이제', 'ㅎㅎ', '알았', '보니', '좋다', '항상', '어떻게', '다들', '생각', '가는', '그런', '하나', '어디', '좋은', '좋네', '보기', '올라', '응원', '올려','진짜']\n",
    "\n",
    "keywordExtracter = keywordExtracter(common_words)"
   ]
  },
  {
   "cell_type": "code",
   "execution_count": 4,
   "metadata": {},
   "outputs": [
    {
     "name": "stdout",
     "output_type": "stream",
     "text": [
      "konlpy best 5 :쿠기, 미노, 웃음소리, 웃음, 요리조리\n",
      "soynlp best 5 :쿠기, 미노이, 웃음소리, 릴러말즈, 요리조리\n",
      "krwordsrank best 5 :쿠기, 미노이, ㅋㅋㅋ, 웃음, 요리조리\n"
     ]
    }
   ],
   "source": [
    "keywordExtracter.method_comparison('./data/iPIiI5oxKNM.xlsx')"
   ]
  },
  {
   "cell_type": "code",
   "execution_count": 5,
   "metadata": {},
   "outputs": [
    {
     "name": "stdout",
     "output_type": "stream",
     "text": [
      "konlpy best 5 :루루, 새해, 교수, 혁신, 전환\n",
      "soynlp best 5 :새해, 빌드업, 구루루님, 감사, 마스터\n",
      "krwordsrank best 5 :교수님, 혁신가, 감사합니다, 덕분에, 새해\n"
     ]
    }
   ],
   "source": [
    "keywordExtracter.method_comparison('./data/5aPOr-8qRFw.xlsx')"
   ]
  },
  {
   "cell_type": "code",
   "execution_count": 6,
   "metadata": {},
   "outputs": [
    {
     "name": "stdout",
     "output_type": "stream",
     "text": [
      "konlpy best 5 :잔디, 경기, 선수, 축구, 월드컵\n",
      "soynlp best 5 :잔디, 월드컵, 벤투, 레바논, 조규성\n",
      "krwordsrank best 5 :잔디, 경기, 월드컵, 벤투, 레바논\n"
     ]
    }
   ],
   "source": [
    "keywordExtracter.method_comparison('./data/TYT15A1ZzQQ.xlsx')"
   ]
  },
  {
   "cell_type": "code",
   "execution_count": 7,
   "metadata": {},
   "outputs": [
    {
     "name": "stdout",
     "output_type": "stream",
     "text": [
      "konlpy best 5 :해킹, 만기, 마빡, 감스트, 머리\n",
      "soynlp best 5 :마빡이, 감스트, 만기, ㅋㅋㅋ, 스트형\n",
      "krwordsrank best 5 :마빡이, 만기, 감스트, 스트형, ㅈ되네만기감\n"
     ]
    }
   ],
   "source": [
    "keywordExtracter.method_comparison('./data/uyeaOv3lZc4.xlsx')"
   ]
  },
  {
   "cell_type": "code",
   "execution_count": 8,
   "metadata": {},
   "outputs": [
    {
     "name": "stdout",
     "output_type": "stream",
     "text": [
      "konlpy best 5 :침착, 개방, 방송, 퀴즈, 깻잎\n",
      "soynlp best 5 :개방장, 침착맨, 유퀴즈, 방송, 감사\n",
      "krwordsrank best 5 :침착맨, 개방장, 유퀴즈, 방송, 깻잎\n"
     ]
    }
   ],
   "source": [
    "keywordExtracter.method_comparison('./data/3mRPNztWfBg.xlsx')"
   ]
  },
  {
   "cell_type": "code",
   "execution_count": 9,
   "metadata": {},
   "outputs": [
    {
     "name": "stdout",
     "output_type": "stream",
     "text": [
      "konlpy best 5 :페이커, 무빙, 상혁, 녀석, 구마\n",
      "soynlp best 5 :페이커, 아랫무빙, 시간, 상혁, 오늘\n",
      "krwordsrank best 5 :페이커, 건방진, 상혁\n"
     ]
    }
   ],
   "source": [
    "keywordExtracter.method_comparison('./data/FTdVTNhhVX4.xlsx')"
   ]
  },
  {
   "cell_type": "code",
   "execution_count": 10,
   "metadata": {},
   "outputs": [
    {
     "name": "stdout",
     "output_type": "stream",
     "text": [
      "konlpy best 5 :복싱, 박종팔, 계란, 선수, 컨텐츠\n",
      "soynlp best 5 :박종팔, 복싱, 예븐님, 김계란, 선수\n",
      "krwordsrank best 5 :박종팔, 복싱, 예븐님, 김계란, 계란\n"
     ]
    }
   ],
   "source": [
    "keywordExtracter.method_comparison('./data/wG10ni2Sn5Y.xlsx')"
   ]
  },
  {
   "cell_type": "markdown",
   "metadata": {},
   "source": [
    "# konlpy에서 해킹이 best 5 1등에 해킹이 랭크된 현상\n",
    "\n",
    "댓글: 해킹해킹해킹해킹해킹해킹해킹해킹해킹해킹해킹해킹해킹해킹해킹해킹해킹해킹해킹해킹해킹해킹해킹해킹해킹해킹해킹해킹해킹해킹해킹해킹해킹해킹해킹해킹해킹해킹해킹해킹해킹해킹해킹해킹해킹해킹해킹해킹해킹해킹해킹해킹해킹해킹해킹해킹해킹해킹해킹해킹해킹해킹해킹해킹해킹해킹해킹해킹해킹해킹해킹해킹해킹해킹해킹해킹해킹해킹해킹해킹해킹해킹해킹해킹해킹해킹해킹해킹해킹해킹해킹해킹해킹해킹해킹해킹해킹해킹해킹해킹해킹해킹해킹해킹해킹해킹해킹해킹해킹해킹해킹해킹해킹해킹해킹해킹해킹해킹해킹해킹해킹해킹해킹해킹해킹해킹해킹해킹해킹해킹해킹해킹해킹해킹해킹해킹해킹해킹해킹해킹해킹해킹해킹해킹해킹해킹해킹해킹해킹해킹해킹해킹해킹해킹해킹해킹해킹해킹해킹해킹해킹해킹해킹해킹해킹해킹해킹해킹해킹해킹해킹해킹해킹해킹해킹해킹해킹해킹해킹해킹해킹해킹해킹해킹해킹해킹해킹해킹해킹해킹해킹해킹해킹해킹해킹해킹해킹해킹해킹해킹해킹해킹해킹해킹해킹해킹해킹해킹해킹해킹해킹해킹해킹해킹해킹해킹해킹해킹해킹해킹해킹해킹해킹해킹해킹해킹해킹해킹해킹해킹해킹해킹해킹해킹해킹해킹해킹해킹해킹해킹해킹해킹해킹해킹해킹해킹해킹해킹해킹해킹해킹해킹해킹해킹해킹해킹해킹해킹해킹해킹해킹해킹해킹해킹해킹해킹해킹해킹해킹해킹해킹해킹해킹해킹해킹해킹해킹해킹해킹해킹해킹해킹해킹해킹해킹해킹해킹해킹해킹해킹해킹해킹해킹해킹해킹해킹해킹해킹해킹해킹해킹해킹해킹해킹해킹해킹해킹해킹해킹해킹해킹해킹해킹해킹해킹해킹해킹해킹해킹해킹해킹해킹해킹해킹해킹해킹해킹해킹해킹해킹해킹해킹해킹해킹해킹해킹해킹해킹해킹해킹해킹해킹해킹해킹해킹해킹해킹해킹해킹해킹해킹해킹해킹해킹해킹해킹해킹해킹해킹해킹해킹해킹해킹해킹해킹해킹해킹해킹해킹해킹해킹해킹해킹해킹해킹해킹해킹해킹해킹해킹해킹해킹해킹해킹해킹해킹해킹해킹해킹해킹해킹해킹해킹해킹해킹해킹해킹해킹해킹해킹해킹해킹해킹해킹해킹해킹해킹해킹해킹해킹해킹해킹해킹해킹해킹해킹해킹해킹해킹해킹해킹해킹해킹해킹해킹해킹해킹해킹해킹해킹해킹해킹해킹해킹해킹해킹해킹해킹해킹해킹해킹해킹해킹해킹해킹해킹해킹해킹해킹해킹해킹해킹해킹해킹해킹해킹해킹해킹해킹해킹해킹해킹해킹해킹해킹해킹해킹해킹해킹해킹해킹해킹해킹해킹해킹해킹해킹해킹해킹해킹해킹해킹해킹해킹해킹해킹해킹해킹해킹해킹해킹해킹해킹해킹해킹해킹해킹해킹해킹해킹해킹해킹해킹해킹해킹해킹해킹해킹해킹해킹해킹해킹해킹해킹해킹해킹해킹해킹해킹해킹해킹해킹해킹해킹해킹해킹해킹해킹해킹해킹해킹해킹해킹해킹해킹해킹해킹해킹해킹해킹해킹해킹해킹해킹해킹해킹해킹해킹해킹해킹해킹해킹해킹해킹해킹해킹해킹해킹해킹해킹해킹해킹해킹해킹해킹해킹해킹해킹해킹해킹해킹해킹해킹해킹해킹해킹해킹해킹해킹해킹해킹해킹해킹해킹해킹해킹해킹해킹해킹해킹해킹해킹해킹해킹해킹해킹해킹해킹해킹해킹해킹해킹해킹해킹해킹해킹해킹해킹해킹해킹해킹해킹해킹해킹해킹해킹해킹해킹해킹해킹해킹해킹해킹해킹해킹해킹해킹해킹해킹해킹해킹해킹해킹해킹해킹해킹해킹해킹해킹해킹해킹해킹해킹해킹해킹해킹해킹해킹해킹해킹해킹해킹해킹해킹해킹해킹해킹해킹해킹해킹해킹해킹해킹해킹해킹해킹해킹해킹해킹해킹해킹해킹해킹해킹해킹해킹해킹해킹해킹해킹해킹해킹해킹해킹해킹해킹해킹해킹해킹해킹해킹해킹해킹해킹해킹해킹해킹해킹해킹해킹해킹해킹해킹해킹해킹해킹해킹해킹해킹해킹해킹해킹해킹해킹해킹해킹해킹해킹해킹해킹해킹해킹해킹해킹해킹해킹해킹해킹해킹해킹해킹해킹해킹해킹해킹해킹해킹해킹해킹해킹해킹해킹해킹해킹해킹해킹해킹해킹해킹해킹해킹해킹해킹해킹해킹해킹해킹해킹해킹해킹해킹해킹해킹해킹해킹해킹해킹해킹해킹해킹해킹해킹해킹해킹해킹해킹해킹해킹해킹해킹해킹해킹해킹해킹해킹해킹해킹해킹해킹해킹해킹해킹해킹해킹해킹해킹해킹해킹해킹해킹해킹해킹해킹해킹해킹해킹해킹해킹해킹해킹해킹해킹해킹해킹해킹해킹해킹해킹해킹해킹해킹해킹해킹해킹해킹해킹해킹해킹해킹해킹해킹해킹해킹해킹해킹해킹해킹해킹해킹\n",
    "\n",
    "=> 이러한 댓글이 총 3개 존재\n",
    "=> 매크로성 댓글"
   ]
  },
  {
   "cell_type": "markdown",
   "metadata": {},
   "source": [
    "# 키워드 정확도\n",
    "개인적으로 soynlp를 사용하였을 때 정확도가 가장 높은 것으로 체감됨"
   ]
  },
  {
   "cell_type": "code",
   "execution_count": 11,
   "metadata": {},
   "outputs": [
    {
     "data": {
      "text/plain": [
       "<keywordExtracter.keywordExtracter at 0x202f4189af0>"
      ]
     },
     "execution_count": 11,
     "metadata": {},
     "output_type": "execute_result"
    }
   ],
   "source": [
    "import time\n",
    " # -*- coding: utf-8 -*-\n",
    "from keywordExtracter import keywordExtracter\n",
    "\n",
    "common_words = ['많이', '영상', '너무', '이번', '내가', 'ㅋㅋ', '남자', '조합', '이거', '있는', '아닌', '진짜', '아니', 'ㅠㅠ', '계속', '좋아', '이렇게', '좋겠다', '제발', '사람', '점점', '보고', '근데', '그냥', '다음', '여기', '뭔가', '보는', 'ㄹㅇ', '하는', '언제', '한번', '같아', '이런', '무슨', '지금', '같음', '느낌', '보면', '우리', '이제', 'ㅎㅎ', '알았', '보니', '좋다', '항상', '어떻게', '다들', '생각', '가는', '그런', '하나', '어디', '좋은', '좋네', '보기', '올라', '응원', '올려','진짜']\n",
    "\n",
    "keywordExtracter = keywordExtracter(common_words)\n",
    "keywordExtracter.get_comments_from_excel('./data/iPIiI5oxKNM.xlsx')"
   ]
  },
  {
   "cell_type": "code",
   "execution_count": 12,
   "metadata": {},
   "outputs": [
    {
     "name": "stdout",
     "output_type": "stream",
     "text": [
      "time : 3.4186785221099854\n"
     ]
    }
   ],
   "source": [
    "\n",
    "start = time.time()  \n",
    "\n",
    "keywords = keywordExtracter.keywords_from_konlpy()\n",
    "keywordExtracter.get_best5_keywords(keywords, one=True)\n",
    " \n",
    "print(\"time :\", time.time() - start)  "
   ]
  },
  {
   "cell_type": "code",
   "execution_count": 13,
   "metadata": {},
   "outputs": [
    {
     "name": "stdout",
     "output_type": "stream",
     "text": [
      "time : 0.5210626125335693\n"
     ]
    }
   ],
   "source": [
    "start = time.time()  \n",
    "\n",
    "keywords = keywordExtracter.keywords_from_soynlp()\n",
    "keywordExtracter.get_best5_keywords(keywords, one=True)\n",
    " \n",
    "print(\"time :\", time.time() - start)  "
   ]
  },
  {
   "cell_type": "code",
   "execution_count": 14,
   "metadata": {},
   "outputs": [
    {
     "name": "stdout",
     "output_type": "stream",
     "text": [
      "time : 0.5259888172149658\n"
     ]
    }
   ],
   "source": [
    "start = time.time()  \n",
    "\n",
    "keywords = keywordExtracter.keywords_from_krwordsrank()\n",
    "keywordExtracter.get_best5_keywords(keywords, one=True)\n",
    " \n",
    "print(\"time :\", time.time() - start)  "
   ]
  },
  {
   "cell_type": "markdown",
   "metadata": {},
   "source": [
    "# 성능\n",
    "konlpy : 4.418605327606201초\n",
    "soynlp : 0.6650009155273438초\n",
    "krwordsrank : 0.38899660110473633초"
   ]
  },
  {
   "cell_type": "code",
   "execution_count": 15,
   "metadata": {},
   "outputs": [
    {
     "data": {
      "text/plain": [
       "<keywordExtracter.keywordExtracter at 0x202c7d248b0>"
      ]
     },
     "execution_count": 15,
     "metadata": {},
     "output_type": "execute_result"
    }
   ],
   "source": [
    " # -*- coding: utf-8 -*-\n",
    "from keywordExtracter import keywordExtracter\n",
    "\n",
    "common_words = ['많이', '영상', '너무', '이번', '내가', 'ㅋㅋ', '남자', '조합', '이거', '있는', '아닌', '진짜', '아니', 'ㅠㅠ', '계속', '좋아', '이렇게', '좋겠다', '제발', '사람', '점점', '보고', '근데', '그냥', '다음', '여기', '뭔가', '보는', 'ㄹㅇ', '하는', '언제', '한번', '같아', '이런', '무슨', '지금', '같음', '느낌', '보면', '우리', '이제', 'ㅎㅎ', '알았', '보니', '좋다', '항상', '어떻게', '다들', '생각', '가는', '그런', '하나', '어디', '좋은', '좋네', '보기', '올라', '응원', '올려','진짜']\n",
    "\n",
    "keywordExtracter = keywordExtracter(common_words)\n",
    "keywordExtracter.get_comments_from_excel('./data/iPIiI5oxKNM.xlsx')"
   ]
  },
  {
   "cell_type": "code",
   "execution_count": 16,
   "metadata": {},
   "outputs": [],
   "source": [
    "best_5_keywords, comments = keywordExtracter.get_comments_related_to_best5keywords(keywordExtracter.keywords_from_soynlp)"
   ]
  },
  {
   "cell_type": "code",
   "execution_count": 17,
   "metadata": {},
   "outputs": [
    {
     "name": "stdout",
     "output_type": "stream",
     "text": [
      "1번째 keyword:쿠기\n",
      "<관련 댓글들>\n",
      "쿠기가 계속 웃고 스윗하게 하니까 미노이도 은근히 좋아하면서 달달컨셉으로 가는거 킹받음 ㅋㅋㅋㅋㅋㅋㅋㅋ\n",
      "코쿤의 정신상담 첫번째 게스트로 쿠기 나오면 좋겠다.<br>코쿤: 어떻겤ㅋㅋㅋㅋㅋ오셨ㅋㅋ어요ㅋㅋㅋ<br>쿠기: 전ㅋㅋㅋㅋㅋㅋ웃음을ㅋㅋㅋ참지못하는ㅋㅋㅋ병이ㅋㅋㅋ있어요ㅋㅋㅋ<br>코쿤: 저도ㅋㅋㅋ있는데ㅋㅋㅋㅋㅋㅋ\n",
      "미노이한테 본명불러주고 스윗하게 구는 게스트는 또 처음이네... 쿠기 계속 저렇게 웃지만 은근 사람 설레게하네....\n",
      "ㅋㅋㅋㅋㅋㅋㅋㅋㅋㅋㅋㅋㅋ지금까지 요리조리는 킹받음 + 개드립때문에 웃었는데 이번에는 쿠기가 웃는 게 너무 웃겨서 전염돼서 빙의 된 것 마냥 웃음ㅋㅋㅋㅋㅋㅋㅋㅋㅋㅋㅋㅋㅋㅋㅋㅋㅋㅋㅋㅋ\n",
      "쿠기가 이렇게 웃긴사람이였나ㅋㅋㅋㅋㅋㄱ<br>맨날 진지한 인터뷰만 봤는데 여기선 거의 개그캐인데ㄱㅋㅋㅋㅋㅋ 겁나호감됨ㅋㅋㅋㅋ\n",
      "웃참 못하는 쿠기 ㅋㅋㅋㅋㅋㅋㅋ 코쿤하고 웃참 배틀 해주세요\n",
      "쿠기 말 끝마다 하이씨 아익씨 나오는 게 개웃김 ㅋㅋㅋㅋㅋㅋㅋ\n",
      "이정도면 미노이랑 쿠기 너무 친해서 보기가 너무 좋음ㅋㅋㅋㅋㅋ 어색하지도 않고 ㅋㅋㅋ 바로 고백각잡넼ㅋㅋㅋ\n",
      "<a href=\"https://www.youtube.com/watch?v=iPIiI5oxKNM&amp;t=10m25s\">10:25</a> 지금 좀 떨리냐니까 쿠기 웃참하는데 입 안에 든 거 먹긴 먹어야 돼서 아삭아삭 씹히는 소리 들리는 거 개웃기고 킹받아 ㅋㅋㅋㅋㅋㅠㅠㅜㅠㅠㅠㅜㅠㅠㅠㅜㅜ\n",
      "코쿤도 그렇고 쿠기도 그렇고 미노이 보면 실성한 사람 처럼 웃는 이유는 이미 미노이는 여러 매체를 통해 그 자체로 개그의 신이 되었기 때문에 실제로 영상으로만 봤던 것이 현실화 되었을때 그 비현실적인 현실감 때문에 그동안 봤던 웃음 이미지가 폭탄이 되어 터져버리는 것. 그냥 생긴 것 목소리만 들어도 개 안웃길수가 없음\n",
      "\n",
      "\n",
      "\n",
      "2번째 keyword:미노이\n",
      "<관련 댓글들>\n",
      "쿠기가 계속 웃고 스윗하게 하니까 미노이도 은근히 좋아하면서 달달컨셉으로 가는거 킹받음 ㅋㅋㅋㅋㅋㅋㅋㅋ\n",
      "미노이한테 본명불러주고 스윗하게 구는 게스트는 또 처음이네... 쿠기 계속 저렇게 웃지만 은근 사람 설레게하네....\n",
      "미노이 요리조리에서 점점 달달한  컨셉으로 가는 거 킹받네 ㅋㅋㅋ\n",
      "미노이 본명 처음 들음 훅 들어옴ㅋㅋㅋㅋ<br>여기 티키타카 텐션이 좋네 둘 다 대놓고 돌아있는 느낌 ㅋㅋㅋㅋ 지금 떨려? 했을 때 와 미쳤다 ㅋㅋㅋㅋ\n",
      "진짜 미노이 요리조리 계속 해줘여...보는 동안 광대가 계속 승천하네 ㅋㅋㅋㅋㅋㅋ\n",
      "이정도면 미노이랑 쿠기 너무 친해서 보기가 너무 좋음ㅋㅋㅋㅋㅋ 어색하지도 않고 ㅋㅋㅋ 바로 고백각잡넼ㅋㅋㅋ\n",
      "차린건 없지만에 미노이 나오고 요리조리에 이영지 나왔으면..엠비티아이도 정반대라 너무 재밌을거 같음..\n",
      "미노이가 얼마나 좋으면 저렇게 웃지ㅋㅋㅋㅋㅋㅋ\n",
      "미노이 오늘도 수줍어하네.. 지금까지 본 것 중에 우리언니 제일 당황스러워보여ㅋㅋㅋㅋㅋ\n",
      "어쩌다가 작가님은 미노이 남편감찾기로 만드신거지…제작진들이 한명한명 심사숙고 골라서 미노이 남편감 만들어주는 프로같음 ㅠㅠ<br>쨋든 저야 환영입니다. 작가님 보고계시다면 저는 아직 잼민이같은 노이언니를 보낼준비가 되었습니다^&lt;&gt;^\n",
      "\n",
      "\n",
      "\n",
      "3번째 keyword:웃음소리\n",
      "<관련 댓글들>\n",
      "진짜 요리조리 웃기는 포인트중 하나는 제작진들 웃음소리도 있는듯 ㅋㅋㅋㅋㅋㅋㅋㅋㅋㅋㅋㅋㅋㅋㅋㅋㅋㅋㅋㅋㅋㅋㅋㅋㅋㅋㅋㅋㅋㅋㅋ\n",
      "이정도면 제작진이 즐길라고 만든거 아니냐 웃음소리 겁나웃기넼ㅋㅋㅋㅋㅋㅋㅋㅋㅋㅋㅋㅋㅋㅋㅋㅋㅋㅋ\n",
      "항상 볼 때마다 느끼는건데 스텝분 웃음소리 진짜 너무 유쾌하심ㅋㅋㅋㅋㅋㅋㅋㅋ\n",
      "<a href=\"https://www.youtube.com/watch?v=iPIiI5oxKNM&amp;t=7m13s\">7:13</a> 아 제작진 분들 웃음소리 미치겠다 ㅋㅋㅋㅋㅋㅋㅋㅋㅋㅋㅋ ㅠㅠ\n",
      "제작진들 웃음소리 넘 좋아ㅋㅋㅋㅋㅋㅋㅋㅋㅋㅋ분위기 너무 좋음\n",
      "<a href=\"https://www.youtube.com/watch?v=iPIiI5oxKNM&amp;t=10m35s\">10:35</a> 와 스탭 웃음소리 이건 레알루 찐탱이다\n",
      "ㅋㅋㅋ 쿠기도 웃긴데 앞에 있는 스탭분들 웃음소리가 제일 웃겨 ㅋㅋ\n",
      "아 진짴ㅋㅋㅋㅋㅋ요리조리는 스텝 분 웃음소리가 킬포임ㅋㅋㅋㅋㅋㅋ쿠기 배꼽 빠지겠다\n",
      "<a href=\"https://www.youtube.com/watch?v=iPIiI5oxKNM&amp;t=8m48s\">8:48</a> 웃음소맄ㅋㅋㅋ 미치겠넼ㅋㅋㅋㅋㅋㅋㅋ 요리조리는 작가님 웃음소리가 진짜 8할 이상은 되는 듯\n",
      "쿠기 웃는 이유가 스탭분들 웃는 소리때문에 웃는듯 <br>저도 스탭분들 웃음소리 듣고 저도 웃는거거든ㅇ\n",
      "\n",
      "\n",
      "\n",
      "4번째 keyword:릴러말즈\n",
      "<관련 댓글들>\n",
      "릴러말즈 ph1 나오게 해주세요 미노이랑 킹밧는 요리조리 보고 싶어요😍\n",
      "릴러말즈 나오게해주세요 ㅋㅋㅋ\n",
      "릴러말즈 ㄱ ㄱ ㄱ\n",
      "릴러말즈 나오는거 보고싶당\n",
      "릴로말즈 릴러말즈 릴러말즈 릴로말즈 릴러말즈 릴러말즈 릴로말즈 릴러말즈  릴로말즈 릴러말즈 릴러말즈 릴로말즈 릴러말즈 릴러말즈 릴로말즈 릴러말즈  릴로말즈 릴러말즈 릴러말즈 릴로말즈 릴러말즈 릴러말즈 릴로말즈 릴러말즈  릴로말즈 릴러말즈 릴러말즈 릴로말즈 릴러말즈 릴러말즈 릴로말즈 릴러말즈  릴로말즈 릴러말즈 릴러말즈 릴로말즈 릴러말즈 릴러말즈 릴로말즈 릴러말즈  릴로말즈 릴러말즈 릴러말즈 릴로말즈 릴러말즈 릴러말즈 릴로말즈 릴러말즈  릴로말즈 릴러말즈 릴러말즈 릴로말즈 릴러말즈 릴러말즈 릴로말즈 릴러말즈  릴로말즈 릴러말즈 릴러말즈 릴로말즈 릴러말즈 릴러말즈 릴로말즈 릴러말즈  릴로말즈 릴러말즈 릴러말즈 릴로말즈 릴러말즈 릴러말즈 릴로말즈 릴러말즈  릴로말즈 릴러말즈 릴러말즈 릴로말즈 릴러말즈 릴러말즈 릴로말즈 릴러말즈  릴로말즈 릴러말즈 릴러말즈 릴로말즈 릴러말즈 릴러말즈 릴로말즈 릴러말즈  릴로말즈 릴러말즈 릴러말즈 릴로말즈 릴러말즈 릴러말즈 릴로말즈 릴러말즈  릴로말즈 릴러말즈 릴러말즈 릴로말즈 릴러말즈 릴러말즈 릴로말즈 릴러말즈  릴로말즈 릴러말즈 릴러말즈 릴로말즈 릴러말즈 릴러말즈 릴로말즈 릴러말즈  릴로말즈 릴러말즈 릴러말즈 릴로말즈 릴러말즈 릴러말즈 릴로말즈 릴러말즈  릴로말즈 릴러말즈 릴러말즈 릴로말즈 릴러말즈 릴러말즈 릴로말즈 릴러말즈\n",
      "릴러말즈를 원합니다 선생님들\n",
      "릴러말즈도좀\n",
      "\n",
      "\n",
      "\n",
      "5번째 keyword:요리조리\n",
      "<관련 댓글들>\n",
      "미노이 요리조리에서 점점 달달한  컨셉으로 가는 거 킹받네 ㅋㅋㅋ\n",
      "진짜 요리조리 웃기는 포인트중 하나는 제작진들 웃음소리도 있는듯 ㅋㅋㅋㅋㅋㅋㅋㅋㅋㅋㅋㅋㅋㅋㅋㅋㅋㅋㅋㅋㅋㅋㅋㅋㅋㅋㅋㅋㅋㅋㅋ\n",
      "ㅋㅋㅋㅋㅋㅋㅋㅋㅋㅋㅋㅋㅋ지금까지 요리조리는 킹받음 + 개드립때문에 웃었는데 이번에는 쿠기가 웃는 게 너무 웃겨서 전염돼서 빙의 된 것 마냥 웃음ㅋㅋㅋㅋㅋㅋㅋㅋㅋㅋㅋㅋㅋㅋㅋㅋㅋㅋㅋㅋ\n",
      "진짜 미노이 요리조리 계속 해줘여...보는 동안 광대가 계속 승천하네 ㅋㅋㅋㅋㅋㅋ\n",
      "요리조리 쉬는시간이나 비하인드 제발 모아서 내주세요 <br>제발 제발\n",
      "차린건 없지만에 미노이 나오고 요리조리에 이영지 나왔으면..엠비티아이도 정반대라 너무 재밌을거 같음..\n",
      "아 미치겠어 잇몸이 마르질 않는다ㅠㅠㅠㅠㅠㅠ 진짜 끝나지마라 요리조리 맨날해줘ㅠㅠㅠㅠㅠ\n",
      "뜬금없지만 요리조리에 주우재 나왔으면 좋겠다..ㅋㅋㅋㅋㅋ 둘이 티키타카 오질거같음\n",
      "요즘 쿠기 인스타 라이브니 인터뷰니 다 뭔가 어두워보였는데 요리조리 나오자마자 웃음보 터지는 거 보니까 기분 좋네 ㅋㅋㅋ\n",
      "미노이의 요리조리 광기의 3인방<br><br>1:기리보이<br>2:쿠기<br>3:카메라 감독\n",
      "\n",
      "\n",
      "\n"
     ]
    }
   ],
   "source": [
    "for i in range(len(best_5_keywords)):\n",
    "  print(str(i+1)+'번째 keyword:'+best_5_keywords[i])\n",
    "  print('<관련 댓글들>')\n",
    "  for j in comments[i]:\n",
    "    print(j)\n",
    "  print('\\n\\n')"
   ]
  },
  {
   "cell_type": "code",
   "execution_count": 19,
   "metadata": {},
   "outputs": [
    {
     "data": {
      "text/plain": [
       "['근데 미노이 소속사가 에잇볼타운?인데 왜 aomg계정에 영상이 올라오나용? 제가 힙합 잘 몰라서요', '뭐야뭐야 힙합계 구교환']"
      ]
     },
     "execution_count": 19,
     "metadata": {},
     "output_type": "execute_result"
    }
   ],
   "source": [
    "comments = keywordExtracter.get_comments_related_to_keyword('힙합')\n",
    "comments"
   ]
  },
  {
   "cell_type": "code",
   "execution_count": 26,
   "metadata": {},
   "outputs": [
    {
     "data": {
      "text/plain": [
       "['스트형이 진짜 항상 잘 챙겨주십니다!! 진짜 맛있게 먹었습니다!! 스트형 아이 러브 유~~❤❤❤❤❤',\n",
       " '만기형 혀 기대치 드립쳐놓고 담달에 라면도 맛있게 먹을거 생각하니까 개귀엽네 ㅋㅋ',\n",
       " '만기님을 위해서 댓글 먹는다해서🍗🍖🥩🥓🍔🍕🍫🎂🦀🦞🦐\\U0001f9cb🍷🍯🍛🍱🥞🌮🥪🍟준비했습니다 맛있게 드세요',\n",
       " '마빡이 맛있게 먹는거 보니깐 보기 좋다 ㅠㅠ',\n",
       " '돼지님 욕 맛있게 쳐드십쇼  :)',\n",
       " '다들 맛있게 재밌게 먹는 모습 보기 좋다',\n",
       " '만기 근데 진짜 많이 알고 맛있게 먹네',\n",
       " '감스트도 기분좋겠다 동생들이 저렇게 맛있게 먹어줘서',\n",
       " '형들 겁나 맛있게 먹네..난 언제 저거 먹냐 ㅋㅎㅋㅋㅎ',\n",
       " '형은 역시 취두부 먹을 때가 제일 맛있게 먹는 거 같아',\n",
       " '스트가 이때먹어서살이 찐거구나 볼살이 올랐던데  디게맛있게 잘먹네 한번가서 먹어보고싶다',\n",
       " '맛있게도 안먹고 재미도 너무 없다',\n",
       " '아니 근데 마빡이 음식을 개맛있게 먹는거 같음 먹방 방송도 괜찮을듯']"
      ]
     },
     "execution_count": 26,
     "metadata": {},
     "output_type": "execute_result"
    }
   ],
   "source": [
    "keywordExtracter.get_comments_from_excel('./data/uyeaOv3lZc4.xlsx')\n",
    "comments = keywordExtracter.get_comments_related_to_keyword('맛있게')\n",
    "comments"
   ]
  }
 ],
 "metadata": {
  "interpreter": {
   "hash": "512dfda59c5b7b73bb23ab92e50be37e814b46159b917fe8982bcd2f53fab484"
  },
  "kernelspec": {
   "display_name": "Python 3.8.12 64-bit ('study': conda)",
   "language": "python",
   "name": "python3"
  },
  "language_info": {
   "codemirror_mode": {
    "name": "ipython",
    "version": 3
   },
   "file_extension": ".py",
   "mimetype": "text/x-python",
   "name": "python",
   "nbconvert_exporter": "python",
   "pygments_lexer": "ipython3",
   "version": "3.8.12"
  },
  "orig_nbformat": 4
 },
 "nbformat": 4,
 "nbformat_minor": 2
}
