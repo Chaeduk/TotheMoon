{
 "cells": [
  {
   "cell_type": "code",
   "execution_count": 1,
   "metadata": {},
   "outputs": [],
   "source": [
    "from timelineExtractor import timelineExtractor\n",
    "\n",
    "timelineExtractor = timelineExtractor()"
   ]
  },
  {
   "cell_type": "code",
   "execution_count": 2,
   "metadata": {},
   "outputs": [
    {
     "data": {
      "text/plain": [
       "[{'count': 7, 'sec': 0, 'label': '00:00~00:10'},\n",
       " {'count': 6, 'sec': 1440, 'label': '24:00~24:10'},\n",
       " {'count': 6, 'sec': 1775, 'label': '29:35~29:45'},\n",
       " {'count': 6, 'sec': 2506, 'label': '41:46~41:56'},\n",
       " {'count': 5, 'sec': 128, 'label': '02:08~02:18'}]"
      ]
     },
     "execution_count": 2,
     "metadata": {},
     "output_type": "execute_result"
    }
   ],
   "source": [
    "timelineExtractor.get_comments_from_excel('../jiOqa0e1GWc.xlsx')\n",
    "timelineExtractor.get_best_timelines(5)"
   ]
  },
  {
   "cell_type": "code",
   "execution_count": 3,
   "metadata": {},
   "outputs": [
    {
     "data": {
      "text/plain": [
       "[{'count': 7, 'sec': 0, 'label': '00:00~00:10'},\n",
       " {'count': 6, 'sec': 1440, 'label': '24:00~24:10'},\n",
       " {'count': 6, 'sec': 1775, 'label': '29:35~29:45'},\n",
       " {'count': 6, 'sec': 2506, 'label': '41:46~41:56'},\n",
       " {'count': 5, 'sec': 128, 'label': '02:08~02:18'},\n",
       " {'count': 5, 'sec': 403, 'label': '06:43~06:53'},\n",
       " {'count': 5, 'sec': 584, 'label': '09:44~09:54'},\n",
       " {'count': 5, 'sec': 925, 'label': '15:25~15:35'},\n",
       " {'count': 5, 'sec': 1170, 'label': '19:30~19:40'},\n",
       " {'count': 3, 'sec': 1972, 'label': '32:52~33:02'},\n",
       " {'count': 2, 'sec': 1666, 'label': '27:46~27:56'},\n",
       " {'count': 2, 'sec': 2108, 'label': '35:08~35:18'},\n",
       " {'count': 1, 'sec': 1125, 'label': '18:45~18:55'},\n",
       " {'count': 1, 'sec': 1587, 'label': '26:27~26:37'},\n",
       " {'count': 1, 'sec': 1698, 'label': '28:18~28:28'},\n",
       " {'count': 1, 'sec': 1724, 'label': '28:44~28:54'}]"
      ]
     },
     "execution_count": 3,
     "metadata": {},
     "output_type": "execute_result"
    }
   ],
   "source": [
    "timelineExtractor.get_best_timelines(20)"
   ]
  },
  {
   "cell_type": "code",
   "execution_count": 4,
   "metadata": {},
   "outputs": [
    {
     "data": {
      "text/plain": [
       "[{'count': 6, 'sec': 252, 'label': '04:12~04:22'},\n",
       " {'count': 4, 'sec': 267, 'label': '04:27~04:37'},\n",
       " {'count': 2, 'sec': 220, 'label': '03:40~03:50'},\n",
       " {'count': 2, 'sec': 297, 'label': '04:57~05:07'},\n",
       " {'count': 2, 'sec': 380, 'label': '06:20~06:30'}]"
      ]
     },
     "execution_count": 4,
     "metadata": {},
     "output_type": "execute_result"
    }
   ],
   "source": [
    "timelineExtractor.get_comments_from_excel('../0hblP68d-68.xlsx')\n",
    "timelineExtractor.get_best_timelines(5)"
   ]
  },
  {
   "cell_type": "code",
   "execution_count": 6,
   "metadata": {},
   "outputs": [
    {
     "name": "stderr",
     "output_type": "stream",
     "text": [
      "C:\\Users\\dd\\anaconda3\\envs\\study\\lib\\site-packages\\bs4\\__init__.py:337: MarkupResemblesLocatorWarning: \".\" looks like a directory name, not markup. You may want to open a file found in this directory and pass the filehandle into Beautiful Soup.\n",
      "  warnings.warn(\n"
     ]
    },
    {
     "data": {
      "text/plain": [
       "[{'count': 29, 'sec': 5132, 'label': '1:25:32~1:25:42'},\n",
       " {'count': 5, 'sec': 580, 'label': '09:40~09:50'},\n",
       " {'count': 5, 'sec': 2363, 'label': '39:23~39:33'},\n",
       " {'count': 4, 'sec': 0, 'label': '00:00~00:10'},\n",
       " {'count': 4, 'sec': 2382, 'label': '39:42~39:52'}]"
      ]
     },
     "execution_count": 6,
     "metadata": {},
     "output_type": "execute_result"
    }
   ],
   "source": [
    "timelineExtractor.get_comments_from_excel('../wQ12qs3bmOg.xlsx')\n",
    "timelineExtractor.get_best_timelines(5)"
   ]
  }
 ],
 "metadata": {
  "interpreter": {
   "hash": "512dfda59c5b7b73bb23ab92e50be37e814b46159b917fe8982bcd2f53fab484"
  },
  "kernelspec": {
   "display_name": "Python 3.8.12 64-bit ('study': conda)",
   "language": "python",
   "name": "python3"
  },
  "language_info": {
   "codemirror_mode": {
    "name": "ipython",
    "version": 3
   },
   "file_extension": ".py",
   "mimetype": "text/x-python",
   "name": "python",
   "nbconvert_exporter": "python",
   "pygments_lexer": "ipython3",
   "version": "3.8.12"
  },
  "orig_nbformat": 4
 },
 "nbformat": 4,
 "nbformat_minor": 2
}
